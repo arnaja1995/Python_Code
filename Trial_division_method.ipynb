{
 "cells": [
  {
   "cell_type": "code",
   "execution_count": 17,
   "id": "8543495d",
   "metadata": {},
   "outputs": [],
   "source": [
    "\"\"\"Python implementation of the trial division method to find the sum of all primes smaller than one million---coded by Arnaja Mitra \"\"\"\n",
    "\n",
    "def is_prime(n):\n",
    "    if n<2 or not type(n)==int:\n",
    "        return False\n",
    "    for i in range(2,int(n**0.5)+1):\n",
    "        if n%i==0:\n",
    "            return False\n",
    "    return True\n",
    "\n",
    "def sum_of_primes(m):\n",
    "    Sum=0\n",
    "    for j in range(2, m):\n",
    "        if is_prime(j):\n",
    "            Sum+=j\n",
    "    return Sum\n",
    "\n",
    "    \n"
   ]
  },
  {
   "cell_type": "code",
   "execution_count": 16,
   "id": "61b44a69",
   "metadata": {
    "scrolled": true
   },
   "outputs": [
    {
     "name": "stdout",
     "output_type": "stream",
     "text": [
      "37550402023\n"
     ]
    }
   ],
   "source": [
    "print(sum_of_primes(1000000))"
   ]
  }
 ],
 "metadata": {
  "kernelspec": {
   "display_name": "Python 3 (ipykernel)",
   "language": "python",
   "name": "python3"
  },
  "language_info": {
   "codemirror_mode": {
    "name": "ipython",
    "version": 3
   },
   "file_extension": ".py",
   "mimetype": "text/x-python",
   "name": "python",
   "nbconvert_exporter": "python",
   "pygments_lexer": "ipython3",
   "version": "3.9.7"
  }
 },
 "nbformat": 4,
 "nbformat_minor": 5
}
