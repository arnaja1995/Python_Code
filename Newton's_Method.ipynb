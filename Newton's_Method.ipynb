{
 "cells": [
  {
   "cell_type": "code",
   "execution_count": 6,
   "id": "e2cd27b4",
   "metadata": {},
   "outputs": [
    {
     "name": "stdout",
     "output_type": "stream",
     "text": [
      "2.094551481542328\n"
     ]
    }
   ],
   "source": [
    "\"\"\" 'Newton's Method' to find the exact real root for a real function, created by Arnaja Mitra\"\"\"\n",
    "\n",
    "from collections.abc import Callable\n",
    "RealFunc = Callable[[float], float]  # type alias for a real -> real function\n",
    "\n",
    "# For the function f(x) we denote by f'(x) the derivative of f(x).\n",
    "def newton(\n",
    "    function: RealFunc,\n",
    "    derivative: RealFunc,\n",
    "    starting_int: int,\n",
    ") -> float:\n",
    "    \"\"\" Examples:\n",
    "    >>> newton(lambda x: x ** 3 - 2 * x - 5, lambda x: 3 * x ** 2 - 2, 3)\n",
    "    2.0945514815423474\n",
    "    >>> newton(lambda x: x ** 3 - 1, lambda x: 3 * x ** 2, -2)\n",
    "    1.0\n",
    "    >>> newton(lambda x: x ** 3 - 1, lambda x: 3 * x ** 2, -4)\n",
    "    1.0000000000000102\n",
    "    >>> import math\n",
    "    >>> newton(math.sin, math.cos, 1)\n",
    "    0.0\n",
    "    >>> newton(math.sin, math.cos, 2)\n",
    "    3.141592653589793\n",
    "    >>> newton(math.cos, lambda x: -math.sin(x), 2)\n",
    "    1.5707963267948966\n",
    "    >>> newton(math.cos, lambda x: -math.sin(x), 0)\n",
    "    Traceback (most recent call last):\n",
    "    ...\n",
    "    ZeroDivisionError: Could not find root\n",
    "    \"\"\"\n",
    "    prev_guess = float(starting_int)\n",
    "    while True:\n",
    "        try:\n",
    "            next_guess = prev_guess - function(prev_guess) / derivative(prev_guess)\n",
    "        except ZeroDivisionError:\n",
    "            raise ZeroDivisionError(\"Could not find root\") from None\n",
    "        if abs(prev_guess - next_guess) < 10**-5:\n",
    "            return next_guess\n",
    "        prev_guess = next_guess\n",
    "\n",
    "\n",
    "def f(x: float) -> float:\n",
    "    return (x**3) - (2 * x) - 5\n",
    "\n",
    "\n",
    "def f1(x: float) -> float:\n",
    "    return 3 * (x**2) - 2\n",
    "\n",
    "\n",
    "if __name__ == \"__main__\":\n",
    "    print(newton(f, f1, 4))"
   ]
  },
  {
   "cell_type": "code",
   "execution_count": 8,
   "id": "8bebb29b",
   "metadata": {},
   "outputs": [
    {
     "data": {
      "text/plain": [
       "3.141592653589793"
      ]
     },
     "execution_count": 8,
     "metadata": {},
     "output_type": "execute_result"
    }
   ],
   "source": [
    "import math\n",
    "newton(math.sin, math.cos, 2)"
   ]
  },
  {
   "cell_type": "code",
   "execution_count": 11,
   "id": "4f474c8e",
   "metadata": {},
   "outputs": [
    {
     "data": {
      "text/plain": [
       "-0.7649722604132889"
      ]
     },
     "execution_count": 11,
     "metadata": {},
     "output_type": "execute_result"
    }
   ],
   "source": [
    "newton(lambda x: math.sin(x**2)-(x**3)-1, lambda x: 2*x*math.cos(x**2)-3*(x**2),2)"
   ]
  },
  {
   "cell_type": "code",
   "execution_count": null,
   "id": "4ff35231",
   "metadata": {},
   "outputs": [],
   "source": []
  }
 ],
 "metadata": {
  "kernelspec": {
   "display_name": "Python 3 (ipykernel)",
   "language": "python",
   "name": "python3"
  },
  "language_info": {
   "codemirror_mode": {
    "name": "ipython",
    "version": 3
   },
   "file_extension": ".py",
   "mimetype": "text/x-python",
   "name": "python",
   "nbconvert_exporter": "python",
   "pygments_lexer": "ipython3",
   "version": "3.9.7"
  }
 },
 "nbformat": 4,
 "nbformat_minor": 5
}
