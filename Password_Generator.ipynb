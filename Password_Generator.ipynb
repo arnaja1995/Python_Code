{
 "cells": [
  {
   "cell_type": "code",
   "execution_count": 1,
   "id": "cdae442e",
   "metadata": {},
   "outputs": [
    {
     "name": "stdout",
     "output_type": "stream",
     "text": [
      "Welcome to the Password Generator (: \n",
      "How many letters would you like in your password?\n",
      "4\n",
      "How many numbers would you like?\n",
      "5\n",
      "How many symbols would you like?\n",
      "6\n",
      "18Y#U5r*6&!2)(V\n"
     ]
    }
   ],
   "source": [
    "\"\"\"Password Generator, code written by Arnaja Mitra\"\"\"\n",
    "import random\n",
    "\n",
    "# Lists of letters, numbers, symbols:\n",
    "letters = ['a', 'b', 'c', 'd', 'e', 'f', 'g', 'h', 'i', 'j', 'k', 'l', 'm', 'n', 'o', 'p', 'q', 'r', 's', 't', 'u', 'v', 'w', 'x', 'y', 'z', 'A', 'B', 'C', 'D', 'E', 'F', 'G', 'H', 'I', 'J', 'K', 'L', 'M', 'N', 'O', 'P', 'Q', 'R', 'S', 'T', 'U', 'V', 'W', 'X', 'Y', 'Z']\n",
    "numbers = ['0', '1', '2', '3', '4', '5', '6', '7', '8', '9']\n",
    "symbols = ['!', '#', '$', '%', '&', '(', ')', '*', '+']\n",
    "\n",
    "# password information:\n",
    "print(\"Welcome to the Password Generator (: \")\n",
    "nr_letters= int(input(\"How many letters would you like in your password?\\n\")) \n",
    "nr_numbers = int(input(f\"How many numbers would you like?\\n\"))\n",
    "nr_symbols = int(input(f\"How many symbols would you like?\\n\"))\n",
    "\n",
    "# Start choosing your expected numbers of elemnets from all three lists:\n",
    "\n",
    "password=[]\n",
    "\n",
    "for ii in range(1, nr_letters+1):\n",
    "    password.append(random.choice(letters))\n",
    "\n",
    "for jj in range(1, nr_symbols+1):\n",
    "    password.append(random.choice(symbols))\n",
    "\n",
    "for kk in range(1, nr_numbers+1):\n",
    "    password.append(random.choice(numbers))\n",
    "\n",
    "# Random pattern of selected \n",
    "random.shuffle(password)\n",
    "\n",
    "# Final password:\n",
    "final_password=\"\"\n",
    "for ll in password:\n",
    "    final_password += ll\n",
    "    \n",
    "print(f\"{final_password}\")"
   ]
  },
  {
   "cell_type": "code",
   "execution_count": null,
   "id": "528b1098",
   "metadata": {},
   "outputs": [],
   "source": []
  }
 ],
 "metadata": {
  "kernelspec": {
   "display_name": "Python 3 (ipykernel)",
   "language": "python",
   "name": "python3"
  },
  "language_info": {
   "codemirror_mode": {
    "name": "ipython",
    "version": 3
   },
   "file_extension": ".py",
   "mimetype": "text/x-python",
   "name": "python",
   "nbconvert_exporter": "python",
   "pygments_lexer": "ipython3",
   "version": "3.9.7"
  }
 },
 "nbformat": 4,
 "nbformat_minor": 5
}
